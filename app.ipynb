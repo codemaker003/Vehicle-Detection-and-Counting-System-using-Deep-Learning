{
 "cells": [
  {
   "cell_type": "code",
   "execution_count": 1,
   "metadata": {},
   "outputs": [
    {
     "name": "stdout",
     "output_type": "stream",
     "text": [
      "\n",
      "0: 384x640 7 cars, 1 bus, 3 trucks, 497.5ms\n",
      "Speed: 24.4ms preprocess, 497.5ms inference, 0.0ms postprocess per image at shape (1, 3, 384, 640)\n",
      "\n",
      "0: 384x640 7 cars, 2 buss, 1 truck, 442.8ms\n",
      "Speed: 8.6ms preprocess, 442.8ms inference, 8.0ms postprocess per image at shape (1, 3, 384, 640)\n",
      "\n",
      "0: 384x640 8 cars, 2 buss, 1 truck, 448.3ms\n",
      "Speed: 79.8ms preprocess, 448.3ms inference, 2.2ms postprocess per image at shape (1, 3, 384, 640)\n",
      "\n",
      "0: 384x640 7 cars, 1 bus, 1 truck, 772.1ms\n",
      "Speed: 10.1ms preprocess, 772.1ms inference, 2.0ms postprocess per image at shape (1, 3, 384, 640)\n",
      "\n",
      "0: 384x640 7 cars, 2 trucks, 491.1ms\n",
      "Speed: 8.0ms preprocess, 491.1ms inference, 0.0ms postprocess per image at shape (1, 3, 384, 640)\n",
      "\n",
      "0: 384x640 7 cars, 1 bus, 1 truck, 544.0ms\n",
      "Speed: 10.2ms preprocess, 544.0ms inference, 3.9ms postprocess per image at shape (1, 3, 384, 640)\n",
      "\n",
      "0: 384x640 8 cars, 1 bus, 1 truck, 954.0ms\n",
      "Speed: 0.0ms preprocess, 954.0ms inference, 5.9ms postprocess per image at shape (1, 3, 384, 640)\n"
     ]
    },
    {
     "ename": "AttributeError",
     "evalue": "'DataFrame' object has no attribute 'append'",
     "output_type": "error",
     "traceback": [
      "\u001b[1;31m---------------------------------------------------------------------------\u001b[0m",
      "\u001b[1;31mAttributeError\u001b[0m                            Traceback (most recent call last)",
      "\u001b[1;32m~\\AppData\\Local\\Temp\\ipykernel_8124\\2540502617.py\u001b[0m in \u001b[0;36m?\u001b[1;34m()\u001b[0m\n\u001b[0;32m    141\u001b[0m     \u001b[0mout\u001b[0m\u001b[1;33m.\u001b[0m\u001b[0mrelease\u001b[0m\u001b[1;33m(\u001b[0m\u001b[1;33m)\u001b[0m\u001b[1;33m\u001b[0m\u001b[1;33m\u001b[0m\u001b[0m\n\u001b[0;32m    142\u001b[0m     \u001b[0mcv2\u001b[0m\u001b[1;33m.\u001b[0m\u001b[0mdestroyAllWindows\u001b[0m\u001b[1;33m(\u001b[0m\u001b[1;33m)\u001b[0m\u001b[1;33m\u001b[0m\u001b[1;33m\u001b[0m\u001b[0m\n\u001b[0;32m    143\u001b[0m \u001b[1;33m\u001b[0m\u001b[0m\n\u001b[0;32m    144\u001b[0m     \u001b[1;31m# Save the vehicle data to an Excel file\u001b[0m\u001b[1;33m\u001b[0m\u001b[1;33m\u001b[0m\u001b[0m\n\u001b[1;32m--> 145\u001b[1;33m     \u001b[0mvehicle_data\u001b[0m\u001b[1;33m.\u001b[0m\u001b[0mto_excel\u001b[0m\u001b[1;33m(\u001b[0m\u001b[0mexcel_file\u001b[0m\u001b[1;33m,\u001b[0m \u001b[0mindex\u001b[0m\u001b[1;33m=\u001b[0m\u001b[1;32mFalse\u001b[0m\u001b[1;33m)\u001b[0m\u001b[1;33m\u001b[0m\u001b[1;33m\u001b[0m\u001b[0m\n\u001b[0m\u001b[0;32m    146\u001b[0m \u001b[1;33m\u001b[0m\u001b[0m\n\u001b[0;32m    147\u001b[0m \u001b[0mprint\u001b[0m\u001b[1;33m(\u001b[0m\u001b[1;34mf\"Total vehicle count: {vehicle_count}\"\u001b[0m\u001b[1;33m)\u001b[0m\u001b[1;33m\u001b[0m\u001b[1;33m\u001b[0m\u001b[0m\n\u001b[0;32m    148\u001b[0m \u001b[0mprint\u001b[0m\u001b[1;33m(\u001b[0m\u001b[1;34mf\"Vehicle data saved to {excel_file}\"\u001b[0m\u001b[1;33m)\u001b[0m\u001b[1;33m\u001b[0m\u001b[1;33m\u001b[0m\u001b[0m\n",
      "\u001b[1;32m~\\AppData\\Local\\Temp\\ipykernel_8124\\2540502617.py\u001b[0m in \u001b[0;36m?\u001b[1;34m(results, frame, frame_number)\u001b[0m\n\u001b[0;32m     90\u001b[0m                     \u001b[0mdate\u001b[0m \u001b[1;33m=\u001b[0m \u001b[0mdatetime\u001b[0m\u001b[1;33m.\u001b[0m\u001b[0mnow\u001b[0m\u001b[1;33m(\u001b[0m\u001b[1;33m)\u001b[0m\u001b[1;33m.\u001b[0m\u001b[0mstrftime\u001b[0m\u001b[1;33m(\u001b[0m\u001b[1;34m'%Y-%m-%d'\u001b[0m\u001b[1;33m)\u001b[0m\u001b[1;33m\u001b[0m\u001b[1;33m\u001b[0m\u001b[0m\n\u001b[0;32m     91\u001b[0m                     \u001b[0mdistance_traveled\u001b[0m \u001b[1;33m=\u001b[0m \u001b[0mnp\u001b[0m\u001b[1;33m.\u001b[0m\u001b[0mlinalg\u001b[0m\u001b[1;33m.\u001b[0m\u001b[0mnorm\u001b[0m\u001b[1;33m(\u001b[0m\u001b[0mnp\u001b[0m\u001b[1;33m.\u001b[0m\u001b[0marray\u001b[0m\u001b[1;33m(\u001b[0m\u001b[0mnew_centroid\u001b[0m\u001b[1;33m)\u001b[0m \u001b[1;33m-\u001b[0m \u001b[0mnp\u001b[0m\u001b[1;33m.\u001b[0m\u001b[0marray\u001b[0m\u001b[1;33m(\u001b[0m\u001b[0mprev_centroid\u001b[0m\u001b[1;33m)\u001b[0m\u001b[1;33m)\u001b[0m\u001b[1;33m\u001b[0m\u001b[1;33m\u001b[0m\u001b[0m\n\u001b[0;32m     92\u001b[0m                     \u001b[0mtime_elapsed\u001b[0m \u001b[1;33m=\u001b[0m \u001b[1;33m(\u001b[0m\u001b[0mframe_number\u001b[0m \u001b[1;33m-\u001b[0m \u001b[0minitial_frame\u001b[0m\u001b[1;33m)\u001b[0m \u001b[1;33m/\u001b[0m \u001b[0mfps\u001b[0m\u001b[1;33m\u001b[0m\u001b[1;33m\u001b[0m\u001b[0m\n\u001b[0;32m     93\u001b[0m                     \u001b[0mspeed_kmh\u001b[0m \u001b[1;33m=\u001b[0m \u001b[0mcalculate_speed\u001b[0m\u001b[1;33m(\u001b[0m\u001b[0mdistance_traveled\u001b[0m \u001b[1;33m/\u001b[0m \u001b[0mtime_elapsed\u001b[0m\u001b[1;33m,\u001b[0m \u001b[0mfps\u001b[0m\u001b[1;33m)\u001b[0m\u001b[1;33m\u001b[0m\u001b[1;33m\u001b[0m\u001b[0m\n\u001b[1;32m---> 94\u001b[1;33m                     vehicle_data = vehicle_data.append({\n\u001b[0m\u001b[0;32m     95\u001b[0m                         \u001b[1;34m'Vehicle_ID'\u001b[0m\u001b[1;33m:\u001b[0m \u001b[1;34mf'car_id{vehicle_id:03d}'\u001b[0m\u001b[1;33m,\u001b[0m\u001b[1;33m\u001b[0m\u001b[1;33m\u001b[0m\u001b[0m\n\u001b[0;32m     96\u001b[0m                         \u001b[1;34m'Time'\u001b[0m\u001b[1;33m:\u001b[0m \u001b[0mtime\u001b[0m\u001b[1;33m,\u001b[0m\u001b[1;33m\u001b[0m\u001b[1;33m\u001b[0m\u001b[0m\n\u001b[0;32m     97\u001b[0m                         \u001b[1;34m'Date'\u001b[0m\u001b[1;33m:\u001b[0m \u001b[0mdate\u001b[0m\u001b[1;33m,\u001b[0m\u001b[1;33m\u001b[0m\u001b[1;33m\u001b[0m\u001b[0m\n",
      "\u001b[1;32mc:\\Users\\donka\\AppData\\Local\\Programs\\Python\\Python311\\Lib\\site-packages\\pandas\\core\\generic.py\u001b[0m in \u001b[0;36m?\u001b[1;34m(self, name)\u001b[0m\n\u001b[0;32m   6295\u001b[0m             \u001b[1;32mand\u001b[0m \u001b[0mname\u001b[0m \u001b[1;32mnot\u001b[0m \u001b[1;32min\u001b[0m \u001b[0mself\u001b[0m\u001b[1;33m.\u001b[0m\u001b[0m_accessors\u001b[0m\u001b[1;33m\u001b[0m\u001b[1;33m\u001b[0m\u001b[0m\n\u001b[0;32m   6296\u001b[0m             \u001b[1;32mand\u001b[0m \u001b[0mself\u001b[0m\u001b[1;33m.\u001b[0m\u001b[0m_info_axis\u001b[0m\u001b[1;33m.\u001b[0m\u001b[0m_can_hold_identifiers_and_holds_name\u001b[0m\u001b[1;33m(\u001b[0m\u001b[0mname\u001b[0m\u001b[1;33m)\u001b[0m\u001b[1;33m\u001b[0m\u001b[1;33m\u001b[0m\u001b[0m\n\u001b[0;32m   6297\u001b[0m         ):\n\u001b[0;32m   6298\u001b[0m             \u001b[1;32mreturn\u001b[0m \u001b[0mself\u001b[0m\u001b[1;33m[\u001b[0m\u001b[0mname\u001b[0m\u001b[1;33m]\u001b[0m\u001b[1;33m\u001b[0m\u001b[1;33m\u001b[0m\u001b[0m\n\u001b[1;32m-> 6299\u001b[1;33m         \u001b[1;32mreturn\u001b[0m \u001b[0mobject\u001b[0m\u001b[1;33m.\u001b[0m\u001b[0m__getattribute__\u001b[0m\u001b[1;33m(\u001b[0m\u001b[0mself\u001b[0m\u001b[1;33m,\u001b[0m \u001b[0mname\u001b[0m\u001b[1;33m)\u001b[0m\u001b[1;33m\u001b[0m\u001b[1;33m\u001b[0m\u001b[0m\n\u001b[0m",
      "\u001b[1;31mAttributeError\u001b[0m: 'DataFrame' object has no attribute 'append'"
     ]
    }
   ],
   "source": [
    "import cv2\n",
    "import numpy as np\n",
    "import torch\n",
    "import pandas as pd\n",
    "from datetime import datetime\n",
    "from ultralytics import YOLO\n",
    "\n",
    "# Load YOLOv8 model (use GPU if available)\n",
    "model = YOLO('yolov8n.pt').to('cuda' if torch.cuda.is_available() else 'cpu')\n",
    "\n",
    "# Initialize video capture\n",
    "cap = cv2.VideoCapture('C:\\\\Users\\\\donka\\\\Downloads\\\\cars.mp4')\n",
    "\n",
    "# Get original video dimensions and frame rate\n",
    "frame_width = int(cap.get(cv2.CAP_PROP_FRAME_WIDTH))\n",
    "frame_height = int(cap.get(cv2.CAP_PROP_FRAME_HEIGHT))\n",
    "fps = cap.get(cv2.CAP_PROP_FPS)\n",
    "\n",
    "# Video writer for saving the output\n",
    "out = cv2.VideoWriter('vcoutput.mp4', cv2.VideoWriter_fourcc(*'mp4v'), fps, (frame_width, frame_height))\n",
    "\n",
    "# Create or load the Excel file\n",
    "excel_file = 'vehicle_data.xlsx'\n",
    "columns = ['Vehicle_ID', 'Time', 'Date', 'Speed_km/h']\n",
    "\n",
    "# Initialize a DataFrame to store vehicle details\n",
    "vehicle_data = pd.DataFrame(columns=columns)\n",
    "\n",
    "# Counting variables\n",
    "vehicle_count = 0\n",
    "line_position = frame_height * 2 // 3  # Adjusted line position\n",
    "\n",
    "# Vehicle classes according to COCO dataset (car, motorcycle, bus, truck)\n",
    "vehicle_classes = [2, 3, 5, 7]\n",
    "\n",
    "# Tracker to track vehicle centroids\n",
    "vehicle_tracker = {}\n",
    "\n",
    "# Vehicle IDs for counting and tracking\n",
    "next_vehicle_id = 0\n",
    "\n",
    "def is_vehicle(class_id):\n",
    "    return int(class_id) in vehicle_classes\n",
    "\n",
    "def calculate_speed(distance_pixels, fps):\n",
    "    # Assume an approximate conversion factor for pixel distance to km/h\n",
    "    pixel_to_kmh = 0.1  # Placeholder factor (this needs calibration based on your video and camera setup)\n",
    "    speed = (distance_pixels * fps * pixel_to_kmh)\n",
    "    return speed\n",
    "\n",
    "def process_detections(results, frame, frame_number):\n",
    "    global vehicle_count, next_vehicle_id, vehicle_tracker, vehicle_data\n",
    "    detections = results[0].boxes.data.cpu().numpy()  # Convert to NumPy for easier processing\n",
    "    new_centroids = []\n",
    "\n",
    "    for detection in detections:\n",
    "        if len(detection) >= 6:\n",
    "            x1, y1, x2, y2, confidence, class_id = detection[:6]\n",
    "            if is_vehicle(class_id):\n",
    "                # Draw bounding box\n",
    "                cv2.rectangle(frame, (int(x1), int(y1)), (int(x2), int(y2)), (0, 255, 0), 2)\n",
    "\n",
    "                # Display the confidence score above the bounding box with larger size and red color\n",
    "                cv2.putText(frame, f'{confidence:.2f}', (int(x1), int(y1) - 10), cv2.FONT_HERSHEY_SIMPLEX, 0.9, (0, 0, 255), 2)\n",
    "\n",
    "                # Calculate centroid of the bounding box\n",
    "                x_center = int((x1 + x2) / 2)\n",
    "                y_center = int((y1 + y2) / 2)\n",
    "                new_centroids.append((x_center, y_center))\n",
    "\n",
    "    # Match current detections with existing trackers\n",
    "    updated_tracker = {}\n",
    "    for vehicle_id, (prev_centroid, counted, initial_frame) in vehicle_tracker.items():\n",
    "        distances = [np.linalg.norm(np.array(prev_centroid) - np.array(new_c)) for new_c in new_centroids]\n",
    "        if distances:\n",
    "            min_dist_idx = np.argmin(distances)\n",
    "            min_dist = distances[min_dist_idx]\n",
    "\n",
    "            # If the closest match is within a reasonable distance, update tracker\n",
    "            if min_dist < 50:  # Threshold distance\n",
    "                new_centroid = new_centroids.pop(min_dist_idx)\n",
    "                updated_tracker[vehicle_id] = (new_centroid, counted, initial_frame)\n",
    "                # Check if the vehicle has crossed the line\n",
    "                if not counted and prev_centroid[1] < line_position <= new_centroid[1]:\n",
    "                    vehicle_count += 1\n",
    "                    updated_tracker[vehicle_id] = (new_centroid, True, initial_frame)\n",
    "\n",
    "                    # Store vehicle information in Excel\n",
    "                    time = datetime.now().strftime('%H:%M:%S')\n",
    "                    date = datetime.now().strftime('%Y-%m-%d')\n",
    "                    distance_traveled = np.linalg.norm(np.array(new_centroid) - np.array(prev_centroid))\n",
    "                    time_elapsed = (frame_number - initial_frame) / fps\n",
    "                    speed_kmh = calculate_speed(distance_traveled / time_elapsed, fps)\n",
    "                    vehicle_data = vehicle_data.append({\n",
    "                        'Vehicle_ID': f'car_id{vehicle_id:03d}',\n",
    "                        'Time': time,\n",
    "                        'Date': date,\n",
    "                        'Speed_km/h': round(speed_kmh, 2)\n",
    "                    }, ignore_index=True)\n",
    "\n",
    "    # Add new detections as new vehicles if no match was found\n",
    "    for new_centroid in new_centroids:\n",
    "        updated_tracker[next_vehicle_id] = (new_centroid, False, frame_number)\n",
    "        next_vehicle_id += 1\n",
    "\n",
    "    vehicle_tracker = updated_tracker\n",
    "    return frame\n",
    "\n",
    "# Ensure resources are cleaned up if error occurs\n",
    "try:\n",
    "    frame_count = 0\n",
    "    while cap.isOpened():\n",
    "        ret, frame = cap.read()\n",
    "        if not ret:\n",
    "            break\n",
    "\n",
    "        frame_count += 1\n",
    "\n",
    "        # Run YOLOv8 inference on the frame\n",
    "        results = model(frame)\n",
    "\n",
    "        # Draw the counting line\n",
    "        cv2.line(frame, (0, line_position), (frame.shape[1], line_position), (0, 0, 255), 2)  # Red line\n",
    "\n",
    "        # Process detections and count vehicles\n",
    "        frame = process_detections(results, frame, frame_count)\n",
    "\n",
    "        # Display the vehicle count at the top of the screen in red\n",
    "        cv2.putText(frame, f'Vehicle Count: {vehicle_count}', (20, 50), cv2.FONT_HERSHEY_SIMPLEX, 1, (0, 0, 255), 2)\n",
    "\n",
    "        # Show the frame and write it to output video\n",
    "        cv2.imshow('Vehicle Detection and Counting', frame)\n",
    "        out.write(frame)\n",
    "\n",
    "        if cv2.waitKey(1) & 0xFF == ord('q'):\n",
    "            break\n",
    "\n",
    "finally:\n",
    "    # Release resources\n",
    "    cap.release()\n",
    "    out.release()\n",
    "    cv2.destroyAllWindows()\n",
    "\n",
    "    # Save the vehicle data to an Excel file\n",
    "    vehicle_data.to_excel(excel_file, index=False)\n",
    "\n",
    "print(f\"Total vehicle count: {vehicle_count}\")\n",
    "print(f\"Vehicle data saved to {excel_file}\")\n"
   ]
  },
  {
   "cell_type": "code",
   "execution_count": 15,
   "metadata": {},
   "outputs": [
    {
     "name": "stdout",
     "output_type": "stream",
     "text": [
      "Requirement already satisfied: openpyxl in c:\\users\\donka\\appdata\\local\\programs\\python\\python311\\lib\\site-packages (3.1.5)Note: you may need to restart the kernel to use updated packages.\n"
     ]
    },
    {
     "name": "stderr",
     "output_type": "stream",
     "text": [
      "\n",
      "[notice] A new release of pip available: 22.3 -> 24.2\n",
      "[notice] To update, run: python.exe -m pip install --upgrade pip\n"
     ]
    },
    {
     "name": "stdout",
     "output_type": "stream",
     "text": [
      "\n",
      "Requirement already satisfied: et-xmlfile in c:\\users\\donka\\appdata\\local\\programs\\python\\python311\\lib\\site-packages (from openpyxl) (1.1.0)\n"
     ]
    }
   ],
   "source": [
    "pip install openpyxl"
   ]
  },
  {
   "cell_type": "code",
   "execution_count": 3,
   "metadata": {},
   "outputs": [
    {
     "name": "stdout",
     "output_type": "stream",
     "text": [
      "Requirement already satisfied: numpy in c:\\users\\donka\\appdata\\local\\programs\\python\\python311\\lib\\site-packages (1.26.4)\n",
      "Note: you may need to restart the kernel to use updated packages.\n"
     ]
    },
    {
     "name": "stderr",
     "output_type": "stream",
     "text": [
      "\n",
      "[notice] A new release of pip available: 22.3 -> 24.2\n",
      "[notice] To update, run: python.exe -m pip install --upgrade pip\n"
     ]
    }
   ],
   "source": [
    "pip install numpy\n"
   ]
  },
  {
   "cell_type": "code",
   "execution_count": null,
   "metadata": {},
   "outputs": [],
   "source": []
  }
 ],
 "metadata": {
  "kernelspec": {
   "display_name": "Python 3",
   "language": "python",
   "name": "python3"
  },
  "language_info": {
   "codemirror_mode": {
    "name": "ipython",
    "version": 3
   },
   "file_extension": ".py",
   "mimetype": "text/x-python",
   "name": "python",
   "nbconvert_exporter": "python",
   "pygments_lexer": "ipython3",
   "version": "3.11.0"
  }
 },
 "nbformat": 4,
 "nbformat_minor": 2
}
